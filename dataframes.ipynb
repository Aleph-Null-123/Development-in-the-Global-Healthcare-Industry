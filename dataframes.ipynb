{
 "cells": [
  {
   "cell_type": "markdown",
   "id": "f445b116-6a59-4199-970e-0393b2752725",
   "metadata": {
    "tags": []
   },
   "source": [
    "### Development in the Global Healthcare Industry"
   ]
  },
  {
   "cell_type": "markdown",
   "id": "dba09e94-a3ac-493c-b05e-d898aa7f43f3",
   "metadata": {
    "tags": []
   },
   "source": [
    "##### Functions for project"
   ]
  },
  {
   "cell_type": "code",
   "execution_count": 1,
   "id": "2efb1b9f-1ad5-4698-bd5b-166c2b6e7126",
   "metadata": {
    "tags": []
   },
   "outputs": [],
   "source": [
    "import pandas as pd\n",
    "import seaborn as sns\n",
    "import matplotlib.pyplot as plt\n",
    "import numpy as np\n",
    "\n",
    "#the countries from 'Country Name' that are relevant\n",
    "wanted_countries=['Aruba', 'Afghanistan', 'Angola', 'Albania', 'Andorra', 'United Arab Emirates', 'Argentina', 'Armenia', 'American Samoa',\n",
    "                  'Antigua and Barbuda', 'Australia', 'Austria', 'Azerbaijan', 'Burundi', 'Belgium', 'Benin', 'Burkina Faso', 'Bangladesh',\n",
    "                  'Bulgaria', 'Bahrain', 'Bahamas, The', 'Bosnia and Herzegovina', 'Belarus', 'Belize', 'Bermuda', 'Bolivia', 'Brazil',\n",
    "                  'Barbados', 'Brunei Darussalam', 'Bhutan', 'Botswana', 'Central African Republic', 'Canada', 'Switzerland', 'Chile',\n",
    "                  'China', 'Cameroon', 'Congo, Dem. Rep.', 'Congo, Rep.', 'Colombia', 'Comoros', 'Cabo Verde',\n",
    "                  'Costa Rica', 'Cuba', 'Curacao', 'Cyprus', 'Czech Republic', 'Germany', 'Djibouti', 'Dominica',\n",
    "                  'Denmark', 'Dominican Republic', 'Algeria', 'Ecuador', 'Egypt, Arab Rep.', 'Eritrea', 'Spain', 'Estonia', 'Ethiopia',\n",
    "                  'Finland', 'Fiji', 'France', 'Faroe Islands', 'Micronesia, Fed. Sts.', 'Gabon', 'United Kingdom', 'Georgia', 'Ghana',\n",
    "                  'Guinea', 'Gambia, The', 'Guinea-Bissau', 'Equatorial Guinea', 'Greece', 'Grenada', 'Greenland', 'Guatemala', 'Guam',\n",
    "                  'Guyana', 'Honduras', 'Croatia', 'Haiti', 'Hungary', 'Indonesia', 'India', 'Ireland', 'Iran, Islamic Rep.', 'Iraq',\n",
    "                  'Iceland', 'Israel', 'Italy', 'Jamaica', 'Jordan', 'Japan', 'Kazakhstan', 'Kenya', 'Kyrgyz Republic', 'Cambodia',\n",
    "                  'Kiribati', 'St. Kitts and Nevis', 'Korea, Rep.', 'Kuwait', 'Lao PDR', 'Lebanon', 'Liberia', 'Libya', 'St. Lucia',\n",
    "                  'Liechtenstein', 'Sri Lanka', 'Lesotho', 'Lithuania', 'Luxembourg', 'Latvia', 'Morocco', 'Monaco', 'Moldova', 'Madagascar',\n",
    "                  'Maldives', 'Mexico', 'Marshall Islands', 'North Macedonia', 'Mali', 'Malta', 'Myanmar', 'Montenegro', 'Mongolia', 'Mozambique',\n",
    "                  'Mauritania', 'Mauritius', 'Malawi', 'Malaysia', 'Namibia', 'Niger', 'Nigeria', 'Nicaragua', 'Netherlands', 'Norway', 'Nepal',\n",
    "                  'Nauru', 'New Zealand', 'Oman', 'Pakistan', 'Panama', 'Peru', 'Philippines', 'Palau', 'Papua New Guinea', 'Poland', 'Puerto Rico',\n",
    "                  \"Korea, Dem. People's Rep.\", 'Portugal', 'Paraguay', 'French Polynesia', 'Qatar', 'Romania', 'Russian Federation', 'Rwanda',\n",
    "                  'Saudi Arabia', 'Sudan', 'Senegal', 'Singapore', 'Solomon Islands', 'Sierra Leone', 'El Salvador', 'San Marino', 'Somalia',\n",
    "                  'Serbia', 'South Sudan', 'Sao Tome and Principe', 'Suriname', 'Slovak Republic', 'Slovenia', 'Sweden', 'Eswatini',\n",
    "                  'Sint Maarten (Dutch part)', 'Seychelles', 'Syrian Arab Republic', 'Chad', 'Togo', 'Thailand', 'Tajikistan', 'Turkmenistan',\n",
    "                  'Timor-Leste', 'Tonga', 'Trinidad and Tobago', 'Tunisia', 'Turkey', 'Tuvalu', 'Tanzania', 'Uganda', 'Ukraine', 'Uruguay',\n",
    "                  'United States', 'Uzbekistan', 'Venezuela, RB', 'Vietnam', 'Vanuatu', 'Samoa',\n",
    "                  'Yemen, Rep.', 'South Africa', 'Zambia', 'Zimbabwe']\n",
    "\n",
    "dates = ['1960', '1961', '1962', '1963', '1964', '1965', '1966', '1967', '1968', '1969', '1970', '1971', '1972', '1973', '1974', '1975', '1976', '1977', '1978', '1979', '1980', '1981', '1982', '1983', '1984', '1985', '1986', '1987', '1988', '1989', '1990', '1991', '1992', '1993', '1994', '1995', '1996', '1997', '1998', '1999', '2000', '2001', '2002', '2003', '2004', '2005', '2006', '2007', '2008', '2009', '2010', '2011', '2012', '2013', '2014', '2015', '2016', '2017', '2018', '2019', '2020']\n",
    "date_nums=[]\n",
    "for i in dates:\n",
    "    date_nums.append(int(i))\n",
    "\n",
    "#data clean\n",
    "def clean(df):\n",
    "    return df[df['Country Name'].isin(wanted_countries)].reset_index(drop=True).drop(columns=['Indicator Name','Indicator Code','Country Code']).set_index('Country Name')\n",
    "\n",
    "#make new df out of existing dfs for all data for one country or date (keyowrd dependent)\n",
    "\n",
    "def third(d,keyword=''):    \n",
    "    temp=pd.DataFrame()    \n",
    "    if keyword=='':\n",
    "        return 'No keyword chosen'        \n",
    "    elif keyword in wanted_countries:\n",
    "        for kind, dfr in d.items():        \n",
    "            temp[kind] = dfr.loc[keyword]\n",
    "        temp['dates']=date_nums\n",
    "        return temp\n",
    "    elif keyword in dates:\n",
    "        for kind, dfr in d.items():        \n",
    "            temp[kind] = dfr[keyword]\n",
    "        return temp\n",
    "    else:\n",
    "        return 'Keyword not found'"
   ]
  },
  {
   "cell_type": "markdown",
   "id": "35a657b5-caae-4b87-9667-b34d6d5cfd60",
   "metadata": {},
   "source": [
    "### dataframes"
   ]
  },
  {
   "cell_type": "markdown",
   "id": "c85d57b3-b0e9-4301-be9c-62b45538b739",
   "metadata": {},
   "source": [
    "- **We initialize the dataframes for:**\n",
    "\n",
    "    1. GDP per capita (gdp)\n",
    "    2. Crude birth rate (cbr)\n",
    "    3. Crude death rate (cdr)\n",
    "    4. Rate of tuberculosis incidence (tbc)\n",
    "    5. Population (pop)\n",
    "    6. Life expectancy (lfe)\n",
    "    7. HIV Incidence (hiv)\n",
    "    8. Undernourishment percentage (unr)<br><br>\n",
    "    \n",
    "- We also initialize the dictionary 'dfs' which we will be using to store the dataframes we will use for the analyses. This may be referred to as the \"Three Dimensional DataFrame\"."
   ]
  },
  {
   "cell_type": "code",
   "execution_count": 2,
   "id": "329d8973-08f2-4795-a320-8ad3730551e4",
   "metadata": {},
   "outputs": [],
   "source": [
    "gdp=pd.DataFrame()\n",
    "cbr=pd.DataFrame()\n",
    "cdr=pd.DataFrame()\n",
    "tbc=pd.DataFrame()\n",
    "pop=pd.DataFrame()\n",
    "lfe=pd.DataFrame()\n",
    "hiv=pd.DataFrame()\n",
    "unr=pd.DataFrame()\n",
    "dfs = {}"
   ]
  },
  {
   "cell_type": "markdown",
   "id": "7b27995a-d677-4ffa-974d-ed2dce104c60",
   "metadata": {},
   "source": [
    "- We then clean the data in order to best fit our use, using the following function:\n",
    "\n",
    "```\n",
    "def clean(df):\n",
    "    return df[df['Country Name'].isin(wanted_countries)].reset_index(drop=True).drop(columns=['Indicator Name','Indicator Code','Country Code']).set_index('Country Name')\n",
    "    \n",
    "```\n",
    "\n",
    "The most notable change we make to the actual data is that we divide all items in the population dataframe by ``1000000`` for simplicity. Population will further be measured in the millions."
   ]
  },
  {
   "cell_type": "code",
   "execution_count": 3,
   "id": "62ffcfc2-921a-4515-94ee-48ea447a2771",
   "metadata": {},
   "outputs": [],
   "source": [
    "gdp = clean(pd.read_csv('data/gdp_percap.csv')).drop(columns='Unnamed: 65')\n",
    "cbr = clean(pd.read_csv('data/birth_rate.csv')).drop(columns='Unnamed: 65')\n",
    "cdr = clean(pd.read_csv('data/death_rate.csv')).drop(columns='Unnamed: 65')\n",
    "tbc = clean(pd.read_csv('data/tuberculosis.csv')).drop(columns='Unnamed: 65')\n",
    "pop = clean(pd.read_csv('data/pop.csv')).drop(columns='Unnamed: 65')/1000000\n",
    "lfe = clean(pd.read_csv('data/life_expectancy.csv')).drop(columns='Unnamed: 65')\n",
    "hiv = clean(pd.read_csv('data/hiv.csv')).drop(columns='Unnamed: 65')\n",
    "unr = clean(pd.read_csv('data/undernourishment.csv')).drop(columns='Unnamed: 65')"
   ]
  },
  {
   "cell_type": "markdown",
   "id": "36509529-ae91-4b78-bb30-f89994ff410c",
   "metadata": {},
   "source": [
    "- We construct the three dimensional dataframe by adding all of the dataframes into the dictionary we previously declared. We omit 'HIV' due to a lack of data."
   ]
  },
  {
   "cell_type": "code",
   "execution_count": 4,
   "id": "d2a83d40-45cc-4303-9fd4-3349260f13c1",
   "metadata": {},
   "outputs": [],
   "source": [
    "dfs['GDP']=gdp\n",
    "dfs['POP']=pop\n",
    "dfs['CBR']=cbr\n",
    "dfs['CDR']=cdr\n",
    "dfs['TBC']=tbc\n",
    "dfs['LFE']=lfe\n",
    "### HIV has a lot of missing data, \n",
    "#too many values are missing in critical countries for us to make any reasonable moves towards conclusions\n",
    "#thus HIV will be omitted from the analysis\n",
    "#dfs['HIV']=hiv\n",
    "dfs['UNR']=unr"
   ]
  },
  {
   "cell_type": "markdown",
   "id": "937a22a5-e90b-40ee-9ca8-a7dee7234261",
   "metadata": {},
   "source": [
    "- We now make a new dictionary, called 'cases'. This will be used to store the cases we use for the case studies in the analysis.\n",
    "- The cases that we decide on will decided based on the mean GDP per capita of the available countries over a span of the years 1960 to 2020.\n",
    "- From this, we take:\n",
    "    1) The top 1 percentile\n",
    "    2) The middle 1 percentile\n",
    "    3) The bottom 1 percentile\n",
    "    \n",
    "    <br>\n",
    "\n",
    "- These cases will be representative of all of the data."
   ]
  },
  {
   "cell_type": "code",
   "execution_count": 5,
   "id": "041b9a59-f906-4128-b7f5-550c51a30547",
   "metadata": {
    "tags": []
   },
   "outputs": [],
   "source": [
    "cases = {}"
   ]
  },
  {
   "cell_type": "code",
   "execution_count": 6,
   "id": "c8ab98ab-7a31-49a5-8537-4fe39fb79a7e",
   "metadata": {},
   "outputs": [],
   "source": [
    "cases['Top'] = gdp.mean(axis=1)[gdp.mean(axis=1)>=gdp.mean(axis=1).quantile(0.99)].index.to_list()"
   ]
  },
  {
   "cell_type": "code",
   "execution_count": 7,
   "id": "5869dfa7-c20f-4732-8352-094ec9d7ea13",
   "metadata": {},
   "outputs": [],
   "source": [
    "cases['Middle'] = gdp.mean(axis=1)[(gdp.mean(axis=1)>=gdp.mean(axis=1).quantile(0.495)) & (gdp.mean(axis=1)<=gdp.mean(axis=1).quantile(0.505))].index.to_list()"
   ]
  },
  {
   "cell_type": "code",
   "execution_count": 8,
   "id": "80008a25-7f6c-4634-81ae-a764babc9fbc",
   "metadata": {},
   "outputs": [],
   "source": [
    "cases['Bottom'] = gdp.mean(axis=1)[gdp.mean(axis=1)<=gdp.mean(axis=1).quantile(0.01)].index.to_list()"
   ]
  },
  {
   "cell_type": "code",
   "execution_count": 9,
   "id": "c476262a-5b04-4228-99bd-e03c0cb3bcde",
   "metadata": {},
   "outputs": [
    {
     "data": {
      "text/html": [
       "<div>\n",
       "<style scoped>\n",
       "    .dataframe tbody tr th:only-of-type {\n",
       "        vertical-align: middle;\n",
       "    }\n",
       "\n",
       "    .dataframe tbody tr th {\n",
       "        vertical-align: top;\n",
       "    }\n",
       "\n",
       "    .dataframe thead th {\n",
       "        text-align: right;\n",
       "    }\n",
       "</style>\n",
       "<table border=\"1\" class=\"dataframe\">\n",
       "  <thead>\n",
       "    <tr style=\"text-align: right;\">\n",
       "      <th></th>\n",
       "      <th>Top</th>\n",
       "      <th>Middle</th>\n",
       "      <th>Bottom</th>\n",
       "    </tr>\n",
       "  </thead>\n",
       "  <tbody>\n",
       "    <tr>\n",
       "      <th>0</th>\n",
       "      <td>Liechtenstein</td>\n",
       "      <td>Botswana</td>\n",
       "      <td>Burundi</td>\n",
       "    </tr>\n",
       "    <tr>\n",
       "      <th>1</th>\n",
       "      <td>Monaco</td>\n",
       "      <td>Turkmenistan</td>\n",
       "      <td>Somalia</td>\n",
       "    </tr>\n",
       "  </tbody>\n",
       "</table>\n",
       "</div>"
      ],
      "text/plain": [
       "             Top        Middle   Bottom\n",
       "0  Liechtenstein      Botswana  Burundi\n",
       "1         Monaco  Turkmenistan  Somalia"
      ]
     },
     "execution_count": 9,
     "metadata": {},
     "output_type": "execute_result"
    }
   ],
   "source": [
    "pd.DataFrame(cases)"
   ]
  }
 ],
 "metadata": {
  "kernelspec": {
   "display_name": "Python 3 (ipykernel)",
   "language": "python",
   "name": "python3"
  },
  "language_info": {
   "codemirror_mode": {
    "name": "ipython",
    "version": 3
   },
   "file_extension": ".py",
   "mimetype": "text/x-python",
   "name": "python",
   "nbconvert_exporter": "python",
   "pygments_lexer": "ipython3",
   "version": "3.9.6"
  }
 },
 "nbformat": 4,
 "nbformat_minor": 5
}
